{
 "cells": [
  {
   "cell_type": "code",
   "execution_count": 1,
   "id": "85d8428c",
   "metadata": {},
   "outputs": [],
   "source": [
    "from tkinter import *"
   ]
  },
  {
   "cell_type": "code",
   "execution_count": 2,
   "id": "0e187f1f",
   "metadata": {},
   "outputs": [],
   "source": [
    "import datetime"
   ]
  },
  {
   "cell_type": "code",
   "execution_count": 3,
   "id": "5683441c",
   "metadata": {},
   "outputs": [],
   "source": [
    "def date_time():\n",
    "    time = datetime.datetime.now()\n",
    "    hr = time.strftime('%I')\n",
    "    mi = time.strftime('%M')\n",
    "    sec = time.strftime('%S') \n",
    "    am = time.strftime('%p')\n",
    "    date = time.strftime('%d')\n",
    "    mo = time.strftime('%m')\n",
    "    yr = time.strftime('%y')\n",
    "    Day = time.strftime('%a')\n",
    "    lab_hr.config(text=hr)\n",
    "    lab_min.config(text=mi)\n",
    "    lab_sec.config(text=sec)\n",
    "    lab_am.config(text=am)\n",
    "    lab_date.config(text=date)\n",
    "    lab_mo.config(text=mo)\n",
    "    lab_yr.config(text=yr)\n",
    "    lab_Day.config(text=Day)\n",
    "    lab_hr.after(200,date_time)"
   ]
  },
  {
   "cell_type": "code",
   "execution_count": null,
   "id": "9acdab99",
   "metadata": {},
   "outputs": [],
   "source": []
  },
  {
   "cell_type": "code",
   "execution_count": null,
   "id": "368a169e",
   "metadata": {},
   "outputs": [],
   "source": []
  },
  {
   "cell_type": "code",
   "execution_count": 4,
   "id": "b93c6287",
   "metadata": {},
   "outputs": [],
   "source": [
    "clock = Tk()"
   ]
  },
  {
   "cell_type": "code",
   "execution_count": 5,
   "id": "b9e27125",
   "metadata": {},
   "outputs": [
    {
     "data": {
      "text/plain": [
       "''"
      ]
     },
     "execution_count": 5,
     "metadata": {},
     "output_type": "execute_result"
    }
   ],
   "source": [
    "clock.title('Digital Watch')"
   ]
  },
  {
   "cell_type": "code",
   "execution_count": 6,
   "id": "c537dc2c",
   "metadata": {},
   "outputs": [
    {
     "data": {
      "text/plain": [
       "''"
      ]
     },
     "execution_count": 6,
     "metadata": {},
     "output_type": "execute_result"
    }
   ],
   "source": [
    "clock.geometry('1000x500')"
   ]
  },
  {
   "cell_type": "code",
   "execution_count": 7,
   "id": "dfe3f8f2",
   "metadata": {},
   "outputs": [],
   "source": [
    "clock.config(bg='purple')"
   ]
  },
  {
   "cell_type": "code",
   "execution_count": 8,
   "id": "1cae13ed",
   "metadata": {},
   "outputs": [],
   "source": [
    "##TIME"
   ]
  },
  {
   "cell_type": "code",
   "execution_count": 9,
   "id": "c7c20fb9",
   "metadata": {},
   "outputs": [],
   "source": [
    "lab_hr=Label(clock,text=\"00\",font=('Times New Roman',60,\"bold\"),bg='black',fg='white')"
   ]
  },
  {
   "cell_type": "code",
   "execution_count": 10,
   "id": "e7f60b6c",
   "metadata": {},
   "outputs": [],
   "source": [
    "lab_hr.place(x=120,y=50,height=110,width=100)"
   ]
  },
  {
   "cell_type": "code",
   "execution_count": 11,
   "id": "1a679fc1",
   "metadata": {},
   "outputs": [],
   "source": [
    "lab_hr_txt=Label(clock,text=\"Hour\",font=('Times New Roman',20,\"bold\"),bg='black',fg='white')"
   ]
  },
  {
   "cell_type": "code",
   "execution_count": 12,
   "id": "6617b09e",
   "metadata": {},
   "outputs": [],
   "source": [
    "lab_hr_txt.place(x=120,y=190,height=30,width=100)"
   ]
  },
  {
   "cell_type": "code",
   "execution_count": null,
   "id": "6ee6ba9a",
   "metadata": {},
   "outputs": [],
   "source": []
  },
  {
   "cell_type": "code",
   "execution_count": null,
   "id": "58b5af11",
   "metadata": {},
   "outputs": [],
   "source": []
  },
  {
   "cell_type": "code",
   "execution_count": 13,
   "id": "19d5710c",
   "metadata": {},
   "outputs": [],
   "source": [
    "lab_min=Label(clock,text=\"00\",font=('Times New Roman',60,\"bold\"),bg='black',fg='white')"
   ]
  },
  {
   "cell_type": "code",
   "execution_count": 14,
   "id": "eb9f7f72",
   "metadata": {},
   "outputs": [],
   "source": [
    "lab_min.place(x=340,y=50,height=110,width=100)"
   ]
  },
  {
   "cell_type": "code",
   "execution_count": 15,
   "id": "12f55715",
   "metadata": {},
   "outputs": [],
   "source": [
    "lab_min_txt=Label(clock,text=\"Minute\",font=('Times New Roman',20,\"bold\"),bg='black',fg='white')"
   ]
  },
  {
   "cell_type": "code",
   "execution_count": 16,
   "id": "d61f61d9",
   "metadata": {},
   "outputs": [],
   "source": [
    "lab_min_txt.place(x=340,y=190,height=30,width=100)"
   ]
  },
  {
   "cell_type": "code",
   "execution_count": null,
   "id": "a43fec56",
   "metadata": {},
   "outputs": [],
   "source": []
  },
  {
   "cell_type": "code",
   "execution_count": null,
   "id": "1beb3b62",
   "metadata": {},
   "outputs": [],
   "source": []
  },
  {
   "cell_type": "code",
   "execution_count": 17,
   "id": "acb54d1a",
   "metadata": {},
   "outputs": [],
   "source": [
    "lab_sec=Label(clock,text=\"00\",font=('Times New Roman',60,\"bold\"),bg='black',fg='white')"
   ]
  },
  {
   "cell_type": "code",
   "execution_count": 18,
   "id": "710385cc",
   "metadata": {},
   "outputs": [],
   "source": [
    "lab_sec.place(x=560,y=50,height=110,width=100)"
   ]
  },
  {
   "cell_type": "code",
   "execution_count": 19,
   "id": "5156068d",
   "metadata": {},
   "outputs": [],
   "source": [
    "lab_sec_txt=Label(clock,text=\"Second\",font=('Times New Roman',20,\"bold\"),bg='black',fg='white')"
   ]
  },
  {
   "cell_type": "code",
   "execution_count": 20,
   "id": "6d3e242d",
   "metadata": {},
   "outputs": [],
   "source": [
    "lab_sec_txt.place(x=560,y=190,height=30,width=100)"
   ]
  },
  {
   "cell_type": "code",
   "execution_count": null,
   "id": "64addad5",
   "metadata": {},
   "outputs": [],
   "source": []
  },
  {
   "cell_type": "code",
   "execution_count": null,
   "id": "8bb7b3cd",
   "metadata": {},
   "outputs": [],
   "source": []
  },
  {
   "cell_type": "code",
   "execution_count": 21,
   "id": "1edcfb5f",
   "metadata": {},
   "outputs": [],
   "source": [
    "lab_am=Label(clock,text=\"AM\",font=('Times New Roman',45,\"bold\"),bg='black',fg='white')"
   ]
  },
  {
   "cell_type": "code",
   "execution_count": 22,
   "id": "01c00eea",
   "metadata": {},
   "outputs": [],
   "source": [
    "lab_am.place(x=780,y=50,height=110,width=100)"
   ]
  },
  {
   "cell_type": "code",
   "execution_count": 23,
   "id": "d29dcf69",
   "metadata": {},
   "outputs": [],
   "source": [
    "lab_am_txt=Label(clock,text=\"AM/PM\",font=('Times New Roman',20,\"bold\"),bg='black',fg='white')"
   ]
  },
  {
   "cell_type": "code",
   "execution_count": 24,
   "id": "fa936428",
   "metadata": {},
   "outputs": [],
   "source": [
    "lab_am_txt.place(x=780,y=190,height=30,width=100)"
   ]
  },
  {
   "cell_type": "code",
   "execution_count": null,
   "id": "97c7b1d3",
   "metadata": {},
   "outputs": [],
   "source": []
  },
  {
   "cell_type": "code",
   "execution_count": 25,
   "id": "f12f4587",
   "metadata": {},
   "outputs": [],
   "source": [
    "##Date"
   ]
  },
  {
   "cell_type": "code",
   "execution_count": 26,
   "id": "7fcae265",
   "metadata": {},
   "outputs": [],
   "source": [
    "lab_date=Label(clock,text=\"00\",font=('Times New Roman',60,\"bold\"),bg='black',fg='white')"
   ]
  },
  {
   "cell_type": "code",
   "execution_count": 27,
   "id": "70eb791d",
   "metadata": {},
   "outputs": [],
   "source": [
    "lab_date.place(x=120,y=260,height=110,width=100)"
   ]
  },
  {
   "cell_type": "code",
   "execution_count": 28,
   "id": "5a5f660d",
   "metadata": {},
   "outputs": [],
   "source": [
    "lab_date_txt=Label(clock,text=\"Date\",font=('Times New Roman',20,\"bold\"),bg='black',fg='white')"
   ]
  },
  {
   "cell_type": "code",
   "execution_count": 29,
   "id": "b2c1868e",
   "metadata": {},
   "outputs": [],
   "source": [
    "lab_date_txt.place(x=120,y=400,height=30,width=100)"
   ]
  },
  {
   "cell_type": "code",
   "execution_count": null,
   "id": "8fbf94a2",
   "metadata": {},
   "outputs": [],
   "source": []
  },
  {
   "cell_type": "code",
   "execution_count": 30,
   "id": "038f9df7",
   "metadata": {},
   "outputs": [],
   "source": [
    "lab_mo=Label(clock,text=\"00\",font=('Times New Roman',60,\"bold\"),bg='black',fg='white')"
   ]
  },
  {
   "cell_type": "code",
   "execution_count": 31,
   "id": "65570891",
   "metadata": {},
   "outputs": [],
   "source": [
    "lab_mo.place(x=340,y=260,height=110,width=100)"
   ]
  },
  {
   "cell_type": "code",
   "execution_count": 32,
   "id": "e36a48d5",
   "metadata": {},
   "outputs": [],
   "source": [
    "lab_mo_txt=Label(clock,text=\"Month\",font=('Times New Roman',20,\"bold\"),bg='black',fg='white')"
   ]
  },
  {
   "cell_type": "code",
   "execution_count": 33,
   "id": "b2e1a514",
   "metadata": {},
   "outputs": [],
   "source": [
    "lab_mo_txt.place(x=340,y=400,height=30,width=100)"
   ]
  },
  {
   "cell_type": "code",
   "execution_count": null,
   "id": "d0ee1307",
   "metadata": {},
   "outputs": [],
   "source": []
  },
  {
   "cell_type": "code",
   "execution_count": 34,
   "id": "360020ce",
   "metadata": {},
   "outputs": [],
   "source": [
    "lab_yr=Label(clock,text=\"00\",font=('Times New Roman',60,\"bold\"),bg='black',fg='white')"
   ]
  },
  {
   "cell_type": "code",
   "execution_count": 35,
   "id": "52f445f5",
   "metadata": {},
   "outputs": [],
   "source": [
    "lab_yr.place(x=560,y=260,height=110,width=100)"
   ]
  },
  {
   "cell_type": "code",
   "execution_count": 36,
   "id": "e6b35497",
   "metadata": {},
   "outputs": [],
   "source": [
    "lab_yr_txt=Label(clock,text=\"Year\",font=('Times New Roman',20,\"bold\"),bg='black',fg='white')"
   ]
  },
  {
   "cell_type": "code",
   "execution_count": 37,
   "id": "217f15c7",
   "metadata": {},
   "outputs": [],
   "source": [
    "lab_yr_txt.place(x=560,y=400,height=30,width=100)"
   ]
  },
  {
   "cell_type": "code",
   "execution_count": null,
   "id": "e82b0595",
   "metadata": {},
   "outputs": [],
   "source": []
  },
  {
   "cell_type": "code",
   "execution_count": 38,
   "id": "36dc0119",
   "metadata": {},
   "outputs": [],
   "source": [
    "lab_Day=Label(clock,text=\"AM\",font=('Times New Roman',45,\"bold\"),bg='black',fg='white')"
   ]
  },
  {
   "cell_type": "code",
   "execution_count": 39,
   "id": "d17edb85",
   "metadata": {},
   "outputs": [],
   "source": [
    "lab_Day.place(x=780,y=260,height=110,width=100)"
   ]
  },
  {
   "cell_type": "code",
   "execution_count": 40,
   "id": "3e35ccb3",
   "metadata": {},
   "outputs": [],
   "source": [
    "lab_Day_txt=Label(clock,text=\"Day\",font=('Times New Roman',20,\"bold\"),bg='black',fg='white')"
   ]
  },
  {
   "cell_type": "code",
   "execution_count": 41,
   "id": "a233c522",
   "metadata": {},
   "outputs": [],
   "source": [
    "lab_Day_txt.place(x=780,y=400,height=30,width=100)"
   ]
  },
  {
   "cell_type": "code",
   "execution_count": null,
   "id": "f0c0849e",
   "metadata": {},
   "outputs": [],
   "source": []
  },
  {
   "cell_type": "code",
   "execution_count": null,
   "id": "ec7ce7c3",
   "metadata": {},
   "outputs": [],
   "source": []
  },
  {
   "cell_type": "code",
   "execution_count": 42,
   "id": "f1889548",
   "metadata": {},
   "outputs": [],
   "source": [
    "date_time()"
   ]
  },
  {
   "cell_type": "code",
   "execution_count": null,
   "id": "3a3b46d7",
   "metadata": {},
   "outputs": [],
   "source": []
  },
  {
   "cell_type": "code",
   "execution_count": 43,
   "id": "8cc33dd7",
   "metadata": {},
   "outputs": [],
   "source": [
    "clock.mainloop()"
   ]
  },
  {
   "cell_type": "code",
   "execution_count": null,
   "id": "a0f7cf9b",
   "metadata": {},
   "outputs": [],
   "source": []
  },
  {
   "cell_type": "code",
   "execution_count": null,
   "id": "9767bc0f",
   "metadata": {},
   "outputs": [],
   "source": []
  }
 ],
 "metadata": {
  "kernelspec": {
   "display_name": "Python 3 (ipykernel)",
   "language": "python",
   "name": "python3"
  },
  "language_info": {
   "codemirror_mode": {
    "name": "ipython",
    "version": 3
   },
   "file_extension": ".py",
   "mimetype": "text/x-python",
   "name": "python",
   "nbconvert_exporter": "python",
   "pygments_lexer": "ipython3",
   "version": "3.10.9"
  }
 },
 "nbformat": 4,
 "nbformat_minor": 5
}
