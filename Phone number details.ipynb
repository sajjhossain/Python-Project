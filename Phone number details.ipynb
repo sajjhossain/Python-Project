{
 "cells": [
  {
   "cell_type": "code",
   "execution_count": 1,
   "id": "f8d97117",
   "metadata": {},
   "outputs": [
    {
     "name": "stdout",
     "output_type": "stream",
     "text": [
      "Requirement already satisfied: phonenumbers in d:\\anacoda install\\lib\\site-packages (8.13.15)\n"
     ]
    }
   ],
   "source": [
    "!pip install phonenumbers"
   ]
  },
  {
   "cell_type": "code",
   "execution_count": 1,
   "id": "1e6cb747",
   "metadata": {},
   "outputs": [],
   "source": [
    "import phonenumbers"
   ]
  },
  {
   "cell_type": "code",
   "execution_count": 2,
   "id": "2df5e944",
   "metadata": {},
   "outputs": [],
   "source": [
    "from phonenumbers import timezone,geocoder,carrier"
   ]
  },
  {
   "cell_type": "code",
   "execution_count": 3,
   "id": "c9d5152f",
   "metadata": {},
   "outputs": [
    {
     "name": "stdout",
     "output_type": "stream",
     "text": [
      "Enter Your Number with your contry code:|+919831460233\n"
     ]
    }
   ],
   "source": [
    "number=input('Enter Your Number with your contry code:')"
   ]
  },
  {
   "cell_type": "code",
   "execution_count": 4,
   "id": "13790da9",
   "metadata": {},
   "outputs": [],
   "source": [
    "phone=phonenumbers.parse(number)"
   ]
  },
  {
   "cell_type": "code",
   "execution_count": 5,
   "id": "e1ad1db7",
   "metadata": {},
   "outputs": [],
   "source": [
    "#.parse will tell us all the details about the number"
   ]
  },
  {
   "cell_type": "code",
   "execution_count": 6,
   "id": "6a384075",
   "metadata": {},
   "outputs": [],
   "source": [
    "time=timezone.time_zones_for_number(phone)"
   ]
  },
  {
   "cell_type": "code",
   "execution_count": 7,
   "id": "e81c06de",
   "metadata": {},
   "outputs": [],
   "source": [
    "#the phone number carrer name should be in english that is why \"en\" is used.\n",
    "carr=carrier.name_for_number(phone,\"en\")"
   ]
  },
  {
   "cell_type": "code",
   "execution_count": 8,
   "id": "7fc8ef25",
   "metadata": {},
   "outputs": [],
   "source": [
    "reg=geocoder.description_for_number(phone,'en')"
   ]
  },
  {
   "cell_type": "code",
   "execution_count": 9,
   "id": "750d7aaa",
   "metadata": {},
   "outputs": [
    {
     "name": "stdout",
     "output_type": "stream",
     "text": [
      "Country Code: 91 National Number: 9831460233\n"
     ]
    }
   ],
   "source": [
    "print(phone)"
   ]
  },
  {
   "cell_type": "code",
   "execution_count": 10,
   "id": "9503aebe",
   "metadata": {},
   "outputs": [
    {
     "name": "stdout",
     "output_type": "stream",
     "text": [
      "('Asia/Calcutta',)\n"
     ]
    }
   ],
   "source": [
    "print(time)"
   ]
  },
  {
   "cell_type": "code",
   "execution_count": 11,
   "id": "197aba73",
   "metadata": {},
   "outputs": [
    {
     "name": "stdout",
     "output_type": "stream",
     "text": [
      "Airtel\n"
     ]
    }
   ],
   "source": [
    "print(carr)"
   ]
  },
  {
   "cell_type": "code",
   "execution_count": 12,
   "id": "ca3309a5",
   "metadata": {},
   "outputs": [
    {
     "name": "stdout",
     "output_type": "stream",
     "text": [
      "India\n"
     ]
    }
   ],
   "source": [
    "print(reg)"
   ]
  },
  {
   "cell_type": "code",
   "execution_count": null,
   "id": "5a15b1ce",
   "metadata": {},
   "outputs": [],
   "source": []
  },
  {
   "cell_type": "code",
   "execution_count": null,
   "id": "b418f214",
   "metadata": {},
   "outputs": [],
   "source": []
  },
  {
   "cell_type": "code",
   "execution_count": null,
   "id": "7fa3a764",
   "metadata": {},
   "outputs": [],
   "source": []
  }
 ],
 "metadata": {
  "kernelspec": {
   "display_name": "Python 3 (ipykernel)",
   "language": "python",
   "name": "python3"
  },
  "language_info": {
   "codemirror_mode": {
    "name": "ipython",
    "version": 3
   },
   "file_extension": ".py",
   "mimetype": "text/x-python",
   "name": "python",
   "nbconvert_exporter": "python",
   "pygments_lexer": "ipython3",
   "version": "3.10.9"
  }
 },
 "nbformat": 4,
 "nbformat_minor": 5
}
